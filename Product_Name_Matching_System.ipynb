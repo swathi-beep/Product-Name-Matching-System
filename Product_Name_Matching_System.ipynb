{
  "nbformat": 4,
  "nbformat_minor": 0,
  "metadata": {
    "colab": {
      "provenance": []
    },
    "kernelspec": {
      "name": "python3",
      "display_name": "Python 3"
    },
    "language_info": {
      "name": "python"
    }
  },
  "cells": [
    {
      "cell_type": "code",
      "execution_count": 1,
      "metadata": {
        "colab": {
          "base_uri": "https://localhost:8080/"
        },
        "id": "_-oJ-r7lWdOr",
        "outputId": "9614d6d4-e6d9-4475-9fa1-3f6d0b413bee"
      },
      "outputs": [
        {
          "output_type": "stream",
          "name": "stdout",
          "text": [
            "Collecting fuzzywuzzy\n",
            "  Downloading fuzzywuzzy-0.18.0-py2.py3-none-any.whl.metadata (4.9 kB)\n",
            "Downloading fuzzywuzzy-0.18.0-py2.py3-none-any.whl (18 kB)\n",
            "Installing collected packages: fuzzywuzzy\n",
            "Successfully installed fuzzywuzzy-0.18.0\n"
          ]
        }
      ],
      "source": [
        "pip install fuzzywuzzy\n"
      ]
    },
    {
      "cell_type": "code",
      "source": [
        "import pickle\n",
        "from fuzzywuzzy import process, fuzz\n",
        "\n",
        "class ProductNameMapper:\n",
        "    def __init__(self, mapping_file=\"mapping_dict.pkl\"):\n",
        "        self.mapping_file = mapping_file\n",
        "        try:\n",
        "            # Load existing mapping dictionary if available\n",
        "            with open(self.mapping_file, 'rb') as file:\n",
        "                self.mapping_dict = pickle.load(file)\n",
        "        except FileNotFoundError:\n",
        "            # Initialize with an empty dictionary if file not found\n",
        "            self.mapping_dict = {}\n",
        "\n",
        "    def save_mapping(self):\n",
        "        \"\"\"Save the mapping dictionary to file.\"\"\"\n",
        "        with open(self.mapping_file, 'wb') as file:\n",
        "            pickle.dump(self.mapping_dict, file)\n",
        "\n",
        "    def manual_map(self, raw_name, standardized_name):\n",
        "        \"\"\"Manually map a raw product name to a standardized name.\"\"\"\n",
        "        self.mapping_dict[raw_name.lower()] = standardized_name\n",
        "        self.save_mapping()\n",
        "        print(f\"Added mapping: '{raw_name}' -> '{standardized_name}'\")\n",
        "\n",
        "    def auto_map(self, raw_name):\n",
        "        \"\"\"Automatically map a product name if possible.\"\"\"\n",
        "        # Normalize input\n",
        "        raw_name_lower = raw_name.lower()\n",
        "        if raw_name_lower in self.mapping_dict:\n",
        "            return self.mapping_dict[raw_name_lower]\n",
        "\n",
        "        # Fuzzy match suggestions\n",
        "        suggestions = process.extract(raw_name, self.mapping_dict.keys(), scorer=fuzz.token_sort_ratio, limit=3)\n",
        "        print(f\"Suggestions for '{raw_name}': {suggestions}\")\n",
        "        return None\n",
        "\n",
        "    def handle_new_name(self, raw_name):\n",
        "        \"\"\"Handle an unmapped product name.\"\"\"\n",
        "        mapped_name = self.auto_map(raw_name)\n",
        "        if mapped_name:\n",
        "            return mapped_name\n",
        "\n",
        "        print(f\"No direct match found for '{raw_name}'. Please provide a standardized name.\")\n",
        "        standardized_name = input(\"Enter standardized name: \")\n",
        "        self.manual_map(raw_name, standardized_name)\n",
        "        return standardized_name\n",
        "\n",
        "    def display_mappings(self):\n",
        "        \"\"\"Display the current mapping dictionary.\"\"\"\n",
        "        for raw, std in self.mapping_dict.items():\n",
        "            print(f\"{raw} -> {std}\")\n",
        "\n",
        "# Test the system\n",
        "if __name__ == \"__main__\":\n",
        "    mapper = ProductNameMapper()\n",
        "\n",
        "    # Existing test cases\n",
        "    test_products = [\n",
        "        \"A4 Paper 500sh\", \"A4 Copy Paper 500 sheets\", \"500 Sheets A4\",\n",
        "        \"Sticky Notes 3x3\", \"Post-it Notes 3x3 Yellow\", \"3x3 Yellow Sticky Notes\"\n",
        "    ]\n",
        "\n",
        "    # Standardized names for testing\n",
        "    standardized_names = {\n",
        "        \"A4 Paper 500sh\": \"A4 Paper 500 Sheets\",\n",
        "        \"A4 Copy Paper 500 sheets\": \"A4 Paper 500 Sheets\",\n",
        "        \"500 Sheets A4\": \"A4 Paper 500 Sheets\",\n",
        "        \"Sticky Notes 3x3\": \"Yellow Sticky Notes\",\n",
        "        \"Post-it Notes 3x3 Yellow\": \"Yellow Sticky Notes\",\n",
        "        \"3x3 Yellow Sticky Notes\": \"Yellow Sticky Notes\"\n",
        "    }\n",
        "\n",
        "    # Adding initial mappings\n",
        "    for raw_name, std_name in standardized_names.items():\n",
        "        mapper.manual_map(raw_name, std_name)\n",
        "\n",
        "    # Handle new test cases\n",
        "    new_test = [\"A4 500 sheets\", \"Yellow 3x3 Post-it\"]\n",
        "    for product in new_test:\n",
        "        result = mapper.handle_new_name(product)\n",
        "        print(f\"'{product}' mapped to '{result}'\")\n",
        "\n",
        "    # Display all mappings\n",
        "    print(\"\\nCurrent Mappings:\")\n",
        "    mapper.display_mappings()\n"
      ],
      "metadata": {
        "colab": {
          "base_uri": "https://localhost:8080/"
        },
        "id": "gspzrnHvWi0u",
        "outputId": "e87a8c4c-cb45-4dc2-b883-46854bbd0479"
      },
      "execution_count": 2,
      "outputs": [
        {
          "output_type": "stream",
          "name": "stderr",
          "text": [
            "/usr/local/lib/python3.10/dist-packages/fuzzywuzzy/fuzz.py:11: UserWarning: Using slow pure-python SequenceMatcher. Install python-Levenshtein to remove this warning\n",
            "  warnings.warn('Using slow pure-python SequenceMatcher. Install python-Levenshtein to remove this warning')\n"
          ]
        },
        {
          "output_type": "stream",
          "name": "stdout",
          "text": [
            "Added mapping: 'A4 Paper 500sh' -> 'A4 Paper 500 Sheets'\n",
            "Added mapping: 'A4 Copy Paper 500 sheets' -> 'A4 Paper 500 Sheets'\n",
            "Added mapping: '500 Sheets A4' -> 'A4 Paper 500 Sheets'\n",
            "Added mapping: 'Sticky Notes 3x3' -> 'Yellow Sticky Notes'\n",
            "Added mapping: 'Post-it Notes 3x3 Yellow' -> 'Yellow Sticky Notes'\n",
            "Added mapping: '3x3 Yellow Sticky Notes' -> 'Yellow Sticky Notes'\n",
            "Suggestions for 'A4 500 sheets': [('500 sheets a4', 100), ('a4 copy paper 500 sheets', 70), ('a4 paper 500sh', 59)]\n",
            "No direct match found for 'A4 500 sheets'. Please provide a standardized name.\n",
            "Enter standardized name: A4 Paper 500 Sheets\n",
            "Added mapping: 'A4 500 sheets' -> 'A4 Paper 500 Sheets'\n",
            "'A4 500 sheets' mapped to 'A4 Paper 500 Sheets'\n",
            "Suggestions for 'Yellow 3x3 Post-it': [('post-it notes 3x3 yellow', 86), ('3x3 yellow sticky notes', 73), ('sticky notes 3x3', 53)]\n",
            "No direct match found for 'Yellow 3x3 Post-it'. Please provide a standardized name.\n",
            "Enter standardized name: Yellow Sticky Notes\n",
            "Added mapping: 'Yellow 3x3 Post-it' -> 'Yellow Sticky Notes'\n",
            "'Yellow 3x3 Post-it' mapped to 'Yellow Sticky Notes'\n",
            "\n",
            "Current Mappings:\n",
            "a4 paper 500sh -> A4 Paper 500 Sheets\n",
            "a4 copy paper 500 sheets -> A4 Paper 500 Sheets\n",
            "500 sheets a4 -> A4 Paper 500 Sheets\n",
            "sticky notes 3x3 -> Yellow Sticky Notes\n",
            "post-it notes 3x3 yellow -> Yellow Sticky Notes\n",
            "3x3 yellow sticky notes -> Yellow Sticky Notes\n",
            "a4 500 sheets -> A4 Paper 500 Sheets\n",
            "yellow 3x3 post-it -> Yellow Sticky Notes\n"
          ]
        }
      ]
    }
  ]
}